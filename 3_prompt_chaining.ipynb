{
 "cells": [
  {
   "cell_type": "code",
   "execution_count": 1,
   "id": "88656fa0",
   "metadata": {},
   "outputs": [],
   "source": [
    "from langgraph.graph import START,StateGraph,END\n",
    "from langchain_openai import ChatOpenAI\n",
    "from dotenv import load_dotenv\n",
    "from typing import TypedDict"
   ]
  },
  {
   "cell_type": "code",
   "execution_count": 2,
   "id": "27988b39",
   "metadata": {},
   "outputs": [
    {
     "data": {
      "text/plain": [
       "<function dotenv.main.load_dotenv(dotenv_path: Union[str, ForwardRef('os.PathLike[str]'), NoneType] = None, stream: Optional[IO[str]] = None, verbose: bool = False, override: bool = False, interpolate: bool = True, encoding: Optional[str] = 'utf-8') -> bool>"
      ]
     },
     "execution_count": 2,
     "metadata": {},
     "output_type": "execute_result"
    }
   ],
   "source": [
    "load_dotenv"
   ]
  },
  {
   "cell_type": "code",
   "execution_count": 3,
   "id": "95c7379f",
   "metadata": {},
   "outputs": [],
   "source": [
    "model=ChatOpenAI()"
   ]
  },
  {
   "cell_type": "code",
   "execution_count": 5,
   "id": "83ae5a84",
   "metadata": {},
   "outputs": [],
   "source": [
    "#state\n",
    "class LLM_blog_state(TypedDict):\n",
    "    topic:str\n",
    "    outline:str\n",
    "    blog:str"
   ]
  },
  {
   "cell_type": "code",
   "execution_count": 6,
   "id": "44de47cc",
   "metadata": {},
   "outputs": [],
   "source": [
    "def get_blog_outline(state:LLM_blog_state)->LLM_blog_state:\n",
    "    #get the topic\n",
    "    topic=state['topic']\n",
    "    \n",
    "    #create the prompt\n",
    "    prompt=f'Generate an Outline for the topic {topic} for the blog'\n",
    "\n",
    "    #get the outline\n",
    "    outline=model.invoke(prompt).content\n",
    "\n",
    "    state['outline']=outline\n",
    "\n",
    "    return state"
   ]
  },
  {
   "cell_type": "code",
   "execution_count": 8,
   "id": "d66c38be",
   "metadata": {},
   "outputs": [],
   "source": [
    "def get_blog(state:LLM_blog_state)->LLM_blog_state:\n",
    "    #get the topic\n",
    "    outline=state['outline']\n",
    "    \n",
    "    #create the prompt\n",
    "    prompt=f'Generate a blog based on these outlines {outline}'\n",
    "\n",
    "    #get the outline\n",
    "    blog=model.invoke(prompt).content\n",
    "\n",
    "    state['blog']=blog\n",
    "\n",
    "    return state"
   ]
  },
  {
   "cell_type": "code",
   "execution_count": null,
   "id": "cfd554ac",
   "metadata": {},
   "outputs": [
    {
     "name": "stdout",
     "output_type": "stream",
     "text": [
      "<langgraph.graph.state.CompiledStateGraph object at 0x0000025D567C5750>\n"
     ]
    }
   ],
   "source": [
    "#initalize graph\n",
    "graph=StateGraph(LLM_blog_state)\n",
    "\n",
    "#add the nodes to graph\n",
    "graph.add_node('get_blog_outline',get_blog_outline)\n",
    "graph.add_node('get_blog',get_blog)\n",
    "\n",
    "#add edges to the graph\n",
    "graph.add_edge(START,'get_blog_outline')\n",
    "graph.add_edge('get_blog_outline','get_blog')\n",
    "graph.add_edge('get_blog',END)\n",
    "\n",
    "#compile the graph\n",
    "workflow=graph.compile()\n",
    "print(workflow)"
   ]
  },
  {
   "cell_type": "code",
   "execution_count": 10,
   "id": "d9ccb748",
   "metadata": {},
   "outputs": [
    {
     "data": {
      "image/png": "[encoded data removed]",
      "text/plain": [
       "<langgraph.graph.state.CompiledStateGraph object at 0x0000025D56ED9990>"
      ]
     },
     "execution_count": 10,
     "metadata": {},
     "output_type": "execute_result"
    }
   ],
   "source": [
    "graph.compile()"
   ]
  },
  {
   "cell_type": "code",
   "execution_count": 11,
   "id": "fd8c25db",
   "metadata": {},
   "outputs": [
    {
     "name": "stdout",
     "output_type": "stream",
     "text": [
      "{'topic': 'MCP for beginner', 'outline': 'I. Introduction\\n    A. Explanation of MCP (Master Control Program)\\n    B. Importance of learning MCP for beginners\\n\\nII. What is MCP?\\n    A. Definition\\n    B. Overview of MCP features and functions\\n\\nIII. Benefits of learning MCP for beginners\\n    A. Enhances problem-solving skills\\n    B. Boosts understanding of computer systems\\n    C. Improves technical knowledge and expertise\\n\\nIV. How to get started with MCP for beginners\\n    A. Recommended resources and courses\\n    B. Steps to set up and install MCP\\n    C. Practice exercises and projects for hands-on learning\\n\\nV. Tips for mastering MCP as a beginner\\n    A. Consistent practice and dedication\\n    B. Utilizing online tutorials and forums\\n    C. Seeking mentorship and guidance from experienced MCP users\\n\\nVI. Challenges and troubleshooting with MCP for beginners\\n    A. Common issues and how to resolve them\\n    B. Building resilience and problem-solving skills through trial and error\\n\\nVII. Conclusion\\n    A. Recap of the importance and benefits of learning MCP as a beginner\\n    B. Encouragement to keep learning and exploring new possibilities with MCP.', 'blog': \"In the fast-paced world of technology, mastering the Master Control Program (MCP) is essential for beginners looking to expand their knowledge and skills in computer systems. In this blog, we will explore the significance of learning MCP, its features and functions, and how beginners can get started on their journey to mastering this crucial program.\\n\\nI. Introduction\\n\\nA. Explanation of MCP (Master Control Program)\\n\\nMCP, also known as the Master Control Program, is a vital component of computer systems that manages the execution of various programs and processes. It is responsible for coordinating input/output operations, memory management, and overall system performance.\\n\\nB. Importance of learning MCP for beginners\\n\\nLearning MCP is crucial for beginners as it lays the foundation for understanding how computer systems operate. It helps develop problem-solving skills, enhances technical knowledge, and provides a deeper insight into the intricacies of computer programming.\\n\\nII. What is MCP?\\n\\nA. Definition\\n\\nMCP can be defined as the central hub of a computer system that controls and regulates the flow of data between hardware components and software programs.\\n\\nB. Overview of MCP features and functions\\n\\nMCP offers a wide range of features and functions, including process scheduling, memory management, input/output operations, and error handling. Understanding these functions is vital for beginners looking to delve into the world of computer systems.\\n\\nIII. Benefits of learning MCP for beginners\\n\\nA. Enhances problem-solving skills\\n\\nMCP requires users to think critically and analytically when solving problems and debugging code. This helps beginners develop essential problem-solving skills that can be applied in various scenarios.\\n\\nB. Boosts understanding of computer systems\\n\\nBy learning MCP, beginners gain a deeper understanding of how computer systems operate and interact with each other. This knowledge is invaluable for anyone looking to pursue a career in IT or computer programming.\\n\\nC. Improves technical knowledge and expertise\\n\\nMastering MCP provides beginners with the technical knowledge and expertise required to navigate complex computer systems effectively. This hands-on experience is essential for honing their skills and staying ahead in the rapidly evolving tech industry.\\n\\nIV. How to get started with MCP for beginners\\n\\nA. Recommended resources and courses\\n\\nThere are numerous online resources, tutorials, and courses available for beginners looking to learn MCP. Websites like Coursera, Udemy, and Codecademy offer comprehensive courses on MCP and computer systems.\\n\\nB. Steps to set up and install MCP\\n\\nSetting up and installing MCP can be a daunting task for beginners. However, with the right guidance and resources, this process can be simplified. Following step-by-step tutorials and guides can help beginners get started with MCP quickly and efficiently.\\n\\nC. Practice exercises and projects for hands-on learning\\n\\nHands-on practice is essential for mastering MCP. Beginners should complete practice exercises and projects to apply their knowledge and skills in real-world scenarios. This practical experience is invaluable for reinforcing their learning and building confidence in using MCP.\\n\\nV. Tips for mastering MCP as a beginner\\n\\nA. Consistent practice and dedication\\n\\nConsistency and dedication are key to mastering MCP. Beginners should practice regularly and invest time and effort in building their skills and knowledge. Over time, this perseverance will pay off, and they will become proficient in using MCP.\\n\\nB. Utilizing online tutorials and forums\\n\\nOnline tutorials and forums are valuable resources for beginners looking to learn MCP. These platforms offer a wealth of information, tips, and guidance from experienced users that can help beginners overcome challenges and improve their skills.\\n\\nC. Seeking mentorship and guidance from experienced MCP users\\n\\nMentorship is invaluable for beginners looking to master MCP. Seeking guidance from experienced users can provide valuable insights, advice, and support that can help beginners navigate the complexities of MCP more effectively.\\n\\nVI. Challenges and troubleshooting with MCP for beginners\\n\\nA. Common issues and how to resolve them\\n\\nBeginners may encounter common issues and challenges when using MCP. These include bugs, errors, and performance issues that can hinder their progress. By learning how to troubleshoot and resolve these issues, beginners can build resilience and problem-solving skills.\\n\\nB. Building resilience and problem-solving skills through trial and error\\n\\nTrial and error are essential components of learning MCP. Beginners must be willing to experiment, make mistakes, and learn from them to improve their skills. This process of trial and error helps build resilience and problem-solving skills that are crucial for mastering MCP.\\n\\nVII. Conclusion\\n\\nIn conclusion, learning MCP is essential for beginners looking to expand their knowledge and skills in computer systems. By understanding the importance of MCP, its features and functions, and how to get started, beginners can embark on a journey to mastering this vital program. With dedication, practice, and perseverance, beginners can overcome challenges, improve their skills, and unlock new possibilities with MCP. So, don't hesitate to start your learning journey with MCP today and explore the endless possibilities that await you in the world of computer systems.\"}\n"
     ]
    }
   ],
   "source": [
    "initial_State={'topic':'MCP for beginner'}\n",
    "\n",
    "final_state=workflow.invoke(initial_State)\n",
    "print(final_state)"
   ]
  },
  {
   "cell_type": "code",
   "execution_count": 13,
   "id": "6cbb7c98",
   "metadata": {},
   "outputs": [
    {
     "name": "stdout",
     "output_type": "stream",
     "text": [
      "In the fast-paced world of technology, mastering the Master Control Program (MCP) is essential for beginners looking to expand their knowledge and skills in computer systems. In this blog, we will explore the significance of learning MCP, its features and functions, and how beginners can get started on their journey to mastering this crucial program.\n",
      "\n",
      "I. Introduction\n",
      "\n",
      "A. Explanation of MCP (Master Control Program)\n",
      "\n",
      "MCP, also known as the Master Control Program, is a vital component of computer systems that manages the execution of various programs and processes. It is responsible for coordinating input/output operations, memory management, and overall system performance.\n",
      "\n",
      "B. Importance of learning MCP for beginners\n",
      "\n",
      "Learning MCP is crucial for beginners as it lays the foundation for understanding how computer systems operate. It helps develop problem-solving skills, enhances technical knowledge, and provides a deeper insight into the intricacies of computer programming.\n",
      "\n",
      "II. What is MCP?\n",
      "\n",
      "A. Definition\n",
      "\n",
      "MCP can be defined as the central hub of a computer system that controls and regulates the flow of data between hardware components and software programs.\n",
      "\n",
      "B. Overview of MCP features and functions\n",
      "\n",
      "MCP offers a wide range of features and functions, including process scheduling, memory management, input/output operations, and error handling. Understanding these functions is vital for beginners looking to delve into the world of computer systems.\n",
      "\n",
      "III. Benefits of learning MCP for beginners\n",
      "\n",
      "A. Enhances problem-solving skills\n",
      "\n",
      "MCP requires users to think critically and analytically when solving problems and debugging code. This helps beginners develop essential problem-solving skills that can be applied in various scenarios.\n",
      "\n",
      "B. Boosts understanding of computer systems\n",
      "\n",
      "By learning MCP, beginners gain a deeper understanding of how computer systems operate and interact with each other. This knowledge is invaluable for anyone looking to pursue a career in IT or computer programming.\n",
      "\n",
      "C. Improves technical knowledge and expertise\n",
      "\n",
      "Mastering MCP provides beginners with the technical knowledge and expertise required to navigate complex computer systems effectively. This hands-on experience is essential for honing their skills and staying ahead in the rapidly evolving tech industry.\n",
      "\n",
      "IV. How to get started with MCP for beginners\n",
      "\n",
      "A. Recommended resources and courses\n",
      "\n",
      "There are numerous online resources, tutorials, and courses available for beginners looking to learn MCP. Websites like Coursera, Udemy, and Codecademy offer comprehensive courses on MCP and computer systems.\n",
      "\n",
      "B. Steps to set up and install MCP\n",
      "\n",
      "Setting up and installing MCP can be a daunting task for beginners. However, with the right guidance and resources, this process can be simplified. Following step-by-step tutorials and guides can help beginners get started with MCP quickly and efficiently.\n",
      "\n",
      "C. Practice exercises and projects for hands-on learning\n",
      "\n",
      "Hands-on practice is essential for mastering MCP. Beginners should complete practice exercises and projects to apply their knowledge and skills in real-world scenarios. This practical experience is invaluable for reinforcing their learning and building confidence in using MCP.\n",
      "\n",
      "V. Tips for mastering MCP as a beginner\n",
      "\n",
      "A. Consistent practice and dedication\n",
      "\n",
      "Consistency and dedication are key to mastering MCP. Beginners should practice regularly and invest time and effort in building their skills and knowledge. Over time, this perseverance will pay off, and they will become proficient in using MCP.\n",
      "\n",
      "B. Utilizing online tutorials and forums\n",
      "\n",
      "Online tutorials and forums are valuable resources for beginners looking to learn MCP. These platforms offer a wealth of information, tips, and guidance from experienced users that can help beginners overcome challenges and improve their skills.\n",
      "\n",
      "C. Seeking mentorship and guidance from experienced MCP users\n",
      "\n",
      "Mentorship is invaluable for beginners looking to master MCP. Seeking guidance from experienced users can provide valuable insights, advice, and support that can help beginners navigate the complexities of MCP more effectively.\n",
      "\n",
      "VI. Challenges and troubleshooting with MCP for beginners\n",
      "\n",
      "A. Common issues and how to resolve them\n",
      "\n",
      "Beginners may encounter common issues and challenges when using MCP. These include bugs, errors, and performance issues that can hinder their progress. By learning how to troubleshoot and resolve these issues, beginners can build resilience and problem-solving skills.\n",
      "\n",
      "B. Building resilience and problem-solving skills through trial and error\n",
      "\n",
      "Trial and error are essential components of learning MCP. Beginners must be willing to experiment, make mistakes, and learn from them to improve their skills. This process of trial and error helps build resilience and problem-solving skills that are crucial for mastering MCP.\n",
      "\n",
      "VII. Conclusion\n",
      "\n",
      "In conclusion, learning MCP is essential for beginners looking to expand their knowledge and skills in computer systems. By understanding the importance of MCP, its features and functions, and how to get started, beginners can embark on a journey to mastering this vital program. With dedication, practice, and perseverance, beginners can overcome challenges, improve their skills, and unlock new possibilities with MCP. So, don't hesitate to start your learning journey with MCP today and explore the endless possibilities that await you in the world of computer systems.\n"
     ]
    }
   ],
   "source": [
    "print(final_state['blog'])"
   ]
  },
  {
   "cell_type": "code",
   "execution_count": null,
   "id": "7a08da12",
   "metadata": {},
   "outputs": [],
   "source": []
  }
 ],
 "metadata": {
  "kernelspec": {
   "display_name": "myenv",
   "language": "python",
   "name": "python3"
  },
  "language_info": {
   "codemirror_mode": {
    "name": "ipython",
    "version": 3
   },
   "file_extension": ".py",
   "mimetype": "text/x-python",
   "name": "python",
   "nbconvert_exporter": "python",
   "pygments_lexer": "ipython3",
   "version": "3.11.9"
  }
 },
 "nbformat": 4,
 "nbformat_minor": 5
}
