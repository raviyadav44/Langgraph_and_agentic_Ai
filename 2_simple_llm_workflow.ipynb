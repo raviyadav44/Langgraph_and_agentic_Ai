{
 "cells": [
  {
   "cell_type": "code",
   "execution_count": 4,
   "id": "85d57abb",
   "metadata": {},
   "outputs": [],
   "source": [
    "# !pip install langchain_openai"
   ]
  },
  {
   "cell_type": "code",
   "execution_count": 10,
   "id": "fff19459",
   "metadata": {},
   "outputs": [],
   "source": [
    "from langgraph.graph import StateGraph,START,END\n",
    "from langchain_openai import ChatOpenAI\n",
    "from typing import TypedDict\n",
    "from dotenv import load_dotenv"
   ]
  },
  {
   "cell_type": "code",
   "execution_count": 11,
   "id": "d3f80c63",
   "metadata": {},
   "outputs": [
    {
     "data": {
      "text/plain": [
       "True"
      ]
     },
     "execution_count": 11,
     "metadata": {},
     "output_type": "execute_result"
    }
   ],
   "source": [
    "load_dotenv()"
   ]
  },
  {
   "cell_type": "code",
   "execution_count": 12,
   "id": "077eb66a",
   "metadata": {},
   "outputs": [],
   "source": [
    "model=ChatOpenAI()"
   ]
  },
  {
   "cell_type": "code",
   "execution_count": 13,
   "id": "b0985f7d",
   "metadata": {},
   "outputs": [],
   "source": [
    "#create a state\n",
    "class LLMState(TypedDict):\n",
    "    question:str\n",
    "    answer:str"
   ]
  },
  {
   "cell_type": "code",
   "execution_count": 14,
   "id": "e9e81fb3",
   "metadata": {},
   "outputs": [],
   "source": [
    "def llm_qa(state:LLMState)-> LLMState:\n",
    "    \n",
    "    #extract the question from the state\n",
    "    question=state['question']\n",
    "\n",
    "    #form a prompt\n",
    "    prompt=f'Answer the following {question}'\n",
    "\n",
    "    #ask the question to the LLM\n",
    "    answer=model.invoke(prompt).content\n",
    "\n",
    "    #updaet the answer in the state\n",
    "    state['answer']=answer\n",
    "\n",
    "    return state"
   ]
  },
  {
   "cell_type": "code",
   "execution_count": 16,
   "id": "dcc99327",
   "metadata": {},
   "outputs": [],
   "source": [
    "#initialize the graph \n",
    "graph=StateGraph(LLMState)\n",
    "\n",
    "#add nodes to the graph\n",
    "graph.add_node('llm_qa',llm_qa)\n",
    "\n",
    "#add edges\n",
    "graph.add_edge(START,'llm_qa')\n",
    "graph.add_edge('llm_qa',END)\n",
    "\n",
    "#comiple the graph\n",
    "workflow=graph.compile()\n"
   ]
  },
  {
   "cell_type": "code",
   "execution_count": 19,
   "id": "5ff57cb2",
   "metadata": {},
   "outputs": [
    {
     "name": "stdout",
     "output_type": "stream",
     "text": [
      "Ingredients:\n",
      "- 2 cups cooked white rice\n",
      "- 1 cup mixed vegetables (such as peas, carrots, corn, bell peppers)\n",
      "- 2 cloves garlic, minced\n",
      "- 1 small onion, diced\n",
      "- 2 eggs, beaten\n",
      "- 3 tablespoons soy sauce\n",
      "- 1 tablespoon sesame oil\n",
      "- Salt and pepper to taste\n",
      "- Green onions, chopped for garnish\n",
      "\n",
      "Instructions:\n",
      "1. Heat a large skillet or wok over medium-high heat and add a tablespoon of oil.\n",
      "2. Add the minced garlic and diced onion, and stir-fry until fragrant and the onion is translucent.\n",
      "3. Push the vegetables to the side of the pan and pour the beaten eggs into the center. Scramble the eggs until cooked through.\n",
      "4. Add the cooked rice to the skillet, breaking up any clumps with a spatula.\n",
      "5. Drizzle the soy sauce and sesame oil over the rice and toss everything together until well combined.\n",
      "6. Season with salt and pepper to taste.\n",
      "7. Continue to cook and stir-fry the rice for a few more minutes until heated through and slightly crispy.\n",
      "8. Remove from heat and garnish with chopped green onions before serving.\n",
      "9. Enjoy your homemade veggie fried rice!\n"
     ]
    }
   ],
   "source": [
    "inital_state={'question':'Give me the recipe for making fried rice (Veg)'}\n",
    "final_state=workflow.invoke(inital_state)\n",
    "print(final_state['answer'])"
   ]
  },
  {
   "cell_type": "code",
   "execution_count": null,
   "id": "029886c4",
   "metadata": {},
   "outputs": [],
   "source": []
  }
 ],
 "metadata": {
  "kernelspec": {
   "display_name": "myenv",
   "language": "python",
   "name": "python3"
  },
  "language_info": {
   "codemirror_mode": {
    "name": "ipython",
    "version": 3
   },
   "file_extension": ".py",
   "mimetype": "text/x-python",
   "name": "python",
   "nbconvert_exporter": "python",
   "pygments_lexer": "ipython3",
   "version": "3.11.9"
  }
 },
 "nbformat": 4,
 "nbformat_minor": 5
}
